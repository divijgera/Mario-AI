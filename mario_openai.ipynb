{
 "cells": [
  {
   "cell_type": "code",
   "execution_count": 1,
   "metadata": {},
   "outputs": [
    {
     "name": "stdout",
     "output_type": "stream",
     "text": [
      "Collecting gym_super_mario_bros==7.3.0\n",
      "  Downloading gym_super_mario_bros-7.3.0-py2.py3-none-any.whl (198 kB)\n",
      "     |████████████████████████████████| 198 kB 628 kB/s            \n",
      "\u001b[?25hCollecting nes_py\n",
      "  Downloading nes_py-8.1.8.tar.gz (76 kB)\n",
      "     |████████████████████████████████| 76 kB 3.3 MB/s            \n",
      "\u001b[?25h  Preparing metadata (setup.py) ... \u001b[?25ldone\n",
      "\u001b[?25hCollecting gym>=0.17.2\n",
      "  Downloading gym-0.21.0.tar.gz (1.5 MB)\n",
      "     |████████████████████████████████| 1.5 MB 1.3 MB/s            \n",
      "\u001b[?25h  Preparing metadata (setup.py) ... \u001b[?25ldone\n",
      "\u001b[?25hRequirement already satisfied: numpy>=1.18.5 in /Users/divij/opt/anaconda3/lib/python3.7/site-packages (from nes_py) (1.19.5)\n",
      "Collecting pyglet<=1.5.11,>=1.4.0\n",
      "  Downloading pyglet-1.5.11-py3-none-any.whl (1.1 MB)\n",
      "     |████████████████████████████████| 1.1 MB 3.5 MB/s            \n",
      "\u001b[?25hCollecting tqdm>=4.48.2\n",
      "  Using cached tqdm-4.62.3-py2.py3-none-any.whl (76 kB)\n",
      "Requirement already satisfied: cloudpickle>=1.2.0 in /Users/divij/opt/anaconda3/lib/python3.7/site-packages (from gym>=0.17.2->nes_py) (1.3.0)\n",
      "Collecting importlib_metadata>=4.8.1\n",
      "  Downloading importlib_metadata-4.10.1-py3-none-any.whl (17 kB)\n",
      "Requirement already satisfied: zipp>=0.5 in /Users/divij/opt/anaconda3/lib/python3.7/site-packages (from importlib_metadata>=4.8.1->gym>=0.17.2->nes_py) (2.2.0)\n",
      "Requirement already satisfied: typing-extensions>=3.6.4 in /Users/divij/opt/anaconda3/lib/python3.7/site-packages (from importlib_metadata>=4.8.1->gym>=0.17.2->nes_py) (3.7.4.3)\n",
      "Building wheels for collected packages: nes-py, gym\n",
      "  Building wheel for nes-py (setup.py) ... \u001b[?25ldone\n",
      "\u001b[?25h  Created wheel for nes-py: filename=nes_py-8.1.8-cp37-cp37m-macosx_10_9_x86_64.whl size=53981 sha256=9c604a7eeabb918c08dbbe47bc26f34d8678d0a13486da1213380c61f13144b9\n",
      "  Stored in directory: /Users/divij/Library/Caches/pip/wheels/f2/05/1f/608f15ab43187096eb5f3087506419c2d9772e97000f3ba025\n",
      "  Building wheel for gym (setup.py) ... \u001b[?25ldone\n",
      "\u001b[?25h  Created wheel for gym: filename=gym-0.21.0-py3-none-any.whl size=1616824 sha256=53363881f42761f436d0a97e53e06dc4a96325a5bc35737fe0101329a1a93b29\n",
      "  Stored in directory: /Users/divij/Library/Caches/pip/wheels/76/ee/9c/36bfe3e079df99acf5ae57f4e3464ff2771b34447d6d2f2148\n",
      "Successfully built nes-py gym\n",
      "Installing collected packages: importlib-metadata, tqdm, pyglet, gym, nes-py, gym-super-mario-bros\n",
      "  Attempting uninstall: importlib-metadata\n",
      "    Found existing installation: importlib-metadata 2.1.1\n",
      "    Uninstalling importlib-metadata-2.1.1:\n",
      "      Successfully uninstalled importlib-metadata-2.1.1\n",
      "  Attempting uninstall: tqdm\n",
      "    Found existing installation: tqdm 4.42.1\n",
      "    Uninstalling tqdm-4.42.1:\n",
      "      Successfully uninstalled tqdm-4.42.1\n",
      "\u001b[31mERROR: pip's dependency resolver does not currently take into account all the packages that are installed. This behaviour is the source of the following dependency conflicts.\n",
      "pytest-astropy 0.8.0 requires pytest-cov>=2.0, which is not installed.\n",
      "pytest-astropy 0.8.0 requires pytest-filter-subpackage>=0.1, which is not installed.\n",
      "pyppeteer 0.2.5 requires importlib-metadata<3.0.0,>=2.1.1; python_version < \"3.8\", but you have importlib-metadata 4.10.1 which is incompatible.\n",
      "dg-util 1.0.4 requires tensorflow==1.15.2, but you have tensorflow 2.7.0 which is incompatible.\u001b[0m\n",
      "Successfully installed gym-0.21.0 gym-super-mario-bros-7.3.0 importlib-metadata-4.10.1 nes-py-8.1.8 pyglet-1.5.11 tqdm-4.62.3\n"
     ]
    }
   ],
   "source": [
    "# !pip install gym_super_mario_bros==7.3.0 nes_py"
   ]
  },
  {
   "cell_type": "code",
   "execution_count": 1,
   "metadata": {},
   "outputs": [],
   "source": [
    "import gym_super_mario_bros\n",
    "from nes_py.wrappers import JoypadSpace\n",
    "from gym_super_mario_bros.actions import SIMPLE_MOVEMENT"
   ]
  },
  {
   "cell_type": "code",
   "execution_count": 2,
   "metadata": {},
   "outputs": [
    {
     "data": {
      "text/plain": [
       "[['NOOP'],\n",
       " ['right'],\n",
       " ['right', 'A'],\n",
       " ['right', 'B'],\n",
       " ['right', 'A', 'B'],\n",
       " ['A'],\n",
       " ['left']]"
      ]
     },
     "execution_count": 2,
     "metadata": {},
     "output_type": "execute_result"
    }
   ],
   "source": [
    "SIMPLE_MOVEMENT"
   ]
  },
  {
   "cell_type": "code",
   "execution_count": 3,
   "metadata": {},
   "outputs": [],
   "source": [
    "# Wrapping simplifies AI learning the movements\n",
    "env = gym_super_mario_bros.make('SuperMarioBros-v0')\n",
    "env = JoypadSpace(env,SIMPLE_MOVEMENT)"
   ]
  },
  {
   "cell_type": "code",
   "execution_count": 4,
   "metadata": {},
   "outputs": [
    {
     "data": {
      "text/plain": [
       "Discrete(7)"
      ]
     },
     "execution_count": 4,
     "metadata": {},
     "output_type": "execute_result"
    }
   ],
   "source": [
    "# Number of Movements\n",
    "env.action_space"
   ]
  },
  {
   "cell_type": "code",
   "execution_count": 5,
   "metadata": {},
   "outputs": [
    {
     "data": {
      "text/plain": [
       "(240, 256, 3)"
      ]
     },
     "execution_count": 5,
     "metadata": {},
     "output_type": "execute_result"
    }
   ],
   "source": [
    "env.observation_space.shape"
   ]
  },
  {
   "cell_type": "code",
   "execution_count": 6,
   "metadata": {},
   "outputs": [
    {
     "name": "stderr",
     "output_type": "stream",
     "text": [
      "/Users/divij/opt/anaconda3/lib/python3.7/site-packages/gym_super_mario_bros/smb_env.py:148: RuntimeWarning: overflow encountered in ubyte_scalars\n",
      "  return (self.ram[0x86] - self.ram[0x071c]) % 256\n"
     ]
    }
   ],
   "source": [
    "env.reset()\n",
    "for frame in range(100):\n",
    "    # A random action\n",
    "    state,reward,done,info = env.step(env.action_space.sample())\n",
    "    # Show the game\n",
    "    env.render()\n",
    "env.close()"
   ]
  },
  {
   "cell_type": "code",
   "execution_count": null,
   "metadata": {},
   "outputs": [],
   "source": []
  }
 ],
 "metadata": {
  "kernelspec": {
   "display_name": "Python 3",
   "language": "python",
   "name": "python3"
  },
  "language_info": {
   "codemirror_mode": {
    "name": "ipython",
    "version": 3
   },
   "file_extension": ".py",
   "mimetype": "text/x-python",
   "name": "python",
   "nbconvert_exporter": "python",
   "pygments_lexer": "ipython3",
   "version": "3.7.6"
  }
 },
 "nbformat": 4,
 "nbformat_minor": 4
}
